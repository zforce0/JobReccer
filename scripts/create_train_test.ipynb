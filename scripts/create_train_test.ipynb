{
 "cells": [
  {
   "cell_type": "code",
   "execution_count": 21,
   "metadata": {},
   "outputs": [
    {
     "name": "stdout",
     "output_type": "stream",
     "text": [
      "Loading past rating records...\n"
     ]
    }
   ],
   "source": [
    "import json  \n",
    "from csv import reader\n",
    "import pandas as pd\n",
    "import numpy as np\n",
    "import math\n",
    "import io\n",
    "\n",
    "rating_file = '../data/job_user_rating.csv'\n",
    "jobs_file = '../data/all_jobs.json'\n",
    "users_file = '../data/all_users.json'\n",
    "train_file = '../data/job_user_train.txt'\n",
    "test_file = '../data/job_user_test.txt'\n",
    "validation_file = '../data/job_user_validation.txt'\n",
    "\n",
    "with open(jobs_file, \"r+\") as infile:\n",
    "    jobs = json.load(infile) #Read json file into buffer\n",
    "\n",
    "try:\n",
    "    rating_df = pd.read_csv(rating_file, header=0)\n",
    "    print(\"Loading past rating records...\")\n",
    "    number_of_jobs, number_of_users = rating_df.shape\n",
    "except OSError as err:\n",
    "    print(\"OS Error:\", err)\n",
    "    print(f\"No file named\", rating_file)\n",
    "    raise \n",
    "\n",
    "with open(jobs_file, 'r') as jobs:\n",
    "    job_obj = json.load(jobs)\n",
    "# print(len(job_obj))\n",
    "res = list(filter(lambda x:x[\"Job_ID\"]==\"31\", job_obj))[0]\n",
    "# print(f'jid 31 is:', res)\n",
    "# print(f'desc of jid 31 is:', res['Short_Description'])\n",
    "# print(type(res))\n",
    "\n",
    "with open(users_file, 'r') as users:\n",
    "    user_obj = json.load(users)\n",
    "\n",
    "# print(user_obj)\n",
    "ures = list(filter(lambda x:x[\"User_ID\"]==\"12\", user_obj))[0]\n",
    "# print(f'user exp: ', ures['experience'])"
   ]
  },
  {
   "cell_type": "code",
   "execution_count": 22,
   "metadata": {},
   "outputs": [
    {
     "name": "stdout",
     "output_type": "stream",
     "text": [
      "942\n"
     ]
    },
    {
     "name": "stderr",
     "output_type": "stream",
     "text": [
      "C:\\Users\\jbc-zeph21\\AppData\\Local\\Temp\\ipykernel_28260\\1019653562.py:2: FutureWarning: iteritems is deprecated and will be removed in a future version. Use .items instead.\n",
      "  for uid, rating_srs in rating_df.iteritems():\n",
      "C:\\Users\\jbc-zeph21\\AppData\\Local\\Temp\\ipykernel_28260\\1019653562.py:4: FutureWarning: iteritems is deprecated and will be removed in a future version. Use .items instead.\n",
      "  for jid, rating in rating_srs.iteritems():\n"
     ]
    }
   ],
   "source": [
    "valid_rating_lookup_table = {}\n",
    "for uid, rating_srs in rating_df.iteritems():\n",
    "    counter = 0\n",
    "    for jid, rating in rating_srs.iteritems():\n",
    "        if not math.isnan(rating):\n",
    "            valid_rating_lookup_table[(uid,str(jid))] = rating\n",
    "            counter += 1\n",
    "#     print(f'uid: ', uid, 'has', counter, 'ratings \\n')\n",
    "# print(valid_rating_lookup_table)\n",
    "print(len(valid_rating_lookup_table))\n"
   ]
  },
  {
   "cell_type": "code",
   "execution_count": 23,
   "metadata": {},
   "outputs": [
    {
     "name": "stdout",
     "output_type": "stream",
     "text": [
      "   rel_score                                            job_url  \\\n",
      "0        1.0  https://www.indeed.com/company/quinnox/jobs/Da...   \n",
      "1        4.0  https://www.indeed.com/rc/clk?jk=aeb5f5aaac099...   \n",
      "2        3.0  https://www.indeed.com/rc/clk?jk=920cc85ba0d3a...   \n",
      "3        5.0  https://www.indeed.com/pagead/clk?mo=r&ad=-6NY...   \n",
      "4        1.0  https://www.indeed.com/rc/clk?jk=e56cd4fb3a53f...   \n",
      "\n",
      "                                           job_title  \\\n",
      "0                                     Data Scientist   \n",
      "1                                     Data Scientist   \n",
      "2                   Associate Director, Data Science   \n",
      "3                              Manager, Data Science   \n",
      "4  Marketing Senior Manager - Strategic Marketing...   \n",
      "\n",
      "                                           query_exp  \\\n",
      "0  [Software Developer - Intern, ABC Corporation ...   \n",
      "1  [Software Developer - Intern, ABC Corporation ...   \n",
      "2  [Software Developer - Intern, ABC Corporation ...   \n",
      "3  [Software Developer - Intern, ABC Corporation ...   \n",
      "4  [Software Developer - Intern, ABC Corporation ...   \n",
      "\n",
      "                                            job_desc  \n",
      "0   \\n Experience in using multiple advanced anal...  \n",
      "1   \\n We’re looking for passionate, analytical, ...  \n",
      "2   \\n Work with the data scientists on your team...  \n",
      "3   \\n Lead data scientists and data analysts to ...  \n",
      "4   \\n Experience with advanced analytics and usi...  \n",
      "942\n"
     ]
    }
   ],
   "source": [
    "# Prepare dataframe for output\n",
    "row_list = []\n",
    "for (row,((uid,jid), rating)) in enumerate(valid_rating_lookup_table.items()):\n",
    "    rel_score = rating\n",
    "    user = list(filter(lambda x:x[\"User_ID\"]==uid, user_obj))[0]\n",
    "    job = list(filter(lambda x:x[\"Job_ID\"]==jid, job_obj))[0]\n",
    "    job_url = job['Job_Detail_Link']\n",
    "    job_title = job['Job_Title']\n",
    "    query_exp = user['experience']\n",
    "    job_desc = job['Short_Description']\n",
    "    row_list.append([rel_score,job_url,job_title,query_exp,job_desc])\n",
    "df_output = pd.DataFrame(row_list)\n",
    "df_output.columns = ['rel_score', 'job_url', 'job_title', 'query_exp', 'job_desc']\n",
    "print(df_output.head(5))\n",
    "print(len(df_output))\n",
    "\n"
   ]
  },
  {
   "cell_type": "code",
   "execution_count": 26,
   "metadata": {},
   "outputs": [
    {
     "name": "stdout",
     "output_type": "stream",
     "text": [
      "number of training samples:  659\n",
      "number of testing samples:  142\n",
      "number of validation samples:  141\n"
     ]
    },
    {
     "ename": "TypeError",
     "evalue": "'str' object cannot be interpreted as an integer",
     "output_type": "error",
     "traceback": [
      "\u001b[1;31m---------------------------------------------------------------------------\u001b[0m",
      "\u001b[1;31mTypeError\u001b[0m                                 Traceback (most recent call last)",
      "\u001b[1;32mc:\\Users\\jbc-zeph21\\jbc-zeph\\UMich\\courses\\SI650\\project\\JobReccer\\scripts\\create_train_test.ipynb Cell 4\u001b[0m in \u001b[0;36m<cell line: 10>\u001b[1;34m()\u001b[0m\n\u001b[0;32m      <a href='vscode-notebook-cell:/c%3A/Users/jbc-zeph21/jbc-zeph/UMich/courses/SI650/project/JobReccer/scripts/create_train_test.ipynb#W5sZmlsZQ%3D%3D?line=6'>7</a>\u001b[0m \u001b[39mprint\u001b[39m(\u001b[39mf\u001b[39m\u001b[39m'\u001b[39m\u001b[39mnumber of validation samples: \u001b[39m\u001b[39m'\u001b[39m, \u001b[39mlen\u001b[39m(df_validation))\n\u001b[0;32m      <a href='vscode-notebook-cell:/c%3A/Users/jbc-zeph21/jbc-zeph/UMich/courses/SI650/project/JobReccer/scripts/create_train_test.ipynb#W5sZmlsZQ%3D%3D?line=8'>9</a>\u001b[0m train_line_num \u001b[39m=\u001b[39m \u001b[39m0\u001b[39m\n\u001b[1;32m---> <a href='vscode-notebook-cell:/c%3A/Users/jbc-zeph21/jbc-zeph/UMich/courses/SI650/project/JobReccer/scripts/create_train_test.ipynb#W5sZmlsZQ%3D%3D?line=9'>10</a>\u001b[0m \u001b[39mwith\u001b[39;00m io\u001b[39m.\u001b[39;49mopen(train_file, \u001b[39m'\u001b[39;49m\u001b[39mw\u001b[39;49m\u001b[39m'\u001b[39;49m, \u001b[39m'\u001b[39;49m\u001b[39mutf-8\u001b[39;49m\u001b[39m'\u001b[39;49m) \u001b[39mas\u001b[39;00m file_output:\n\u001b[0;32m     <a href='vscode-notebook-cell:/c%3A/Users/jbc-zeph21/jbc-zeph/UMich/courses/SI650/project/JobReccer/scripts/create_train_test.ipynb#W5sZmlsZQ%3D%3D?line=10'>11</a>\u001b[0m     \u001b[39mprint\u001b[39m(\u001b[39mlen\u001b[39m(df_train))\n\u001b[0;32m     <a href='vscode-notebook-cell:/c%3A/Users/jbc-zeph21/jbc-zeph/UMich/courses/SI650/project/JobReccer/scripts/create_train_test.ipynb#W5sZmlsZQ%3D%3D?line=11'>12</a>\u001b[0m     \u001b[39m# line = ''\u001b[39;00m\n\u001b[0;32m     <a href='vscode-notebook-cell:/c%3A/Users/jbc-zeph21/jbc-zeph/UMich/courses/SI650/project/JobReccer/scripts/create_train_test.ipynb#W5sZmlsZQ%3D%3D?line=12'>13</a>\u001b[0m     \u001b[39m# for i in range(len(df_train)):\u001b[39;00m\n\u001b[0;32m     <a href='vscode-notebook-cell:/c%3A/Users/jbc-zeph21/jbc-zeph/UMich/courses/SI650/project/JobReccer/scripts/create_train_test.ipynb#W5sZmlsZQ%3D%3D?line=13'>14</a>\u001b[0m     \u001b[39m#     line = str(df_train.iloc[i][0]) + '<SPLIT>' + \\\u001b[39;00m\n\u001b[1;32m   (...)\u001b[0m\n\u001b[0;32m     <a href='vscode-notebook-cell:/c%3A/Users/jbc-zeph21/jbc-zeph/UMich/courses/SI650/project/JobReccer/scripts/create_train_test.ipynb#W5sZmlsZQ%3D%3D?line=19'>20</a>\u001b[0m     \u001b[39m#     file_output.write('\\n')\u001b[39;00m\n\u001b[0;32m     <a href='vscode-notebook-cell:/c%3A/Users/jbc-zeph21/jbc-zeph/UMich/courses/SI650/project/JobReccer/scripts/create_train_test.ipynb#W5sZmlsZQ%3D%3D?line=20'>21</a>\u001b[0m     \u001b[39m#     train_line_num += 1\u001b[39;00m\n",
      "\u001b[1;31mTypeError\u001b[0m: 'str' object cannot be interpreted as an integer"
     ]
    }
   ],
   "source": [
    "# Split the valid data into training and testing sets and write output files\n",
    "df_train = df_output.sample(frac = 0.7)\n",
    "df_test = df_output.drop(df_train.index).sample(frac = 0.5)\n",
    "df_validation = df_output.drop(df_train.index).drop(df_test.index)\n",
    "print(f'number of training samples: ', len(df_train))\n",
    "print(f'number of testing samples: ', len(df_test))\n",
    "print(f'number of validation samples: ', len(df_validation))\n",
    "\n",
    "train_line_num = 0\n",
    "with io.open(train_file, 'w', encoding='utf-8') as file_output:\n",
    "    print(len(df_train))\n",
    "    # line = ''\n",
    "    # for i in range(len(df_train)):\n",
    "    #     line = str(df_train.iloc[i][0]) + '<SPLIT>' + \\\n",
    "    #         str(df_train.iloc[i][1]) + '<SPLIT>' + \\\n",
    "    #         str(df_train.iloc[i][2]) + '<SPLIT>' + \\\n",
    "    #         str(df_train.iloc[i][3]) + '<SPLIT>' + \\\n",
    "    #         str(df_train.iloc[i][4])\n",
    "    #     file_output.write(line)\n",
    "    #     file_output.write('\\n')\n",
    "    #     train_line_num += 1\n",
    "print(f'train line number is: ', train_line_num)\n",
    "\n",
    "test_line_num = 0\n",
    "with open(test_file, 'w') as file_output:\n",
    "    line = ''\n",
    "    for i in range(len(df_test)):\n",
    "        line = str(df_test.iloc[i][0]) + '<SPLIT>' + \\\n",
    "            str(df_test.iloc[i][1]) + '<SPLIT>' + \\\n",
    "            str(df_test.iloc[i][2]) + '<SPLIT>' + \\\n",
    "            str(df_test.iloc[i][3]) + '<SPLIT>' + \\\n",
    "            str(df_test.iloc[i][4])\n",
    "        file_output.write(line)\n",
    "        file_output.write('\\n')\n",
    "        test_line_num += 1\n",
    "\n",
    "print(f'testline number is: ', test_line_num)\n",
    "\n",
    "validation_line_num = 0\n",
    "with open(validation_file, 'w') as file_output:\n",
    "    line = ''\n",
    "    for i in range(len(df_test)):\n",
    "        line = str(df_test.iloc[i][0]) + '<SPLIT>' + \\\n",
    "            str(df_test.iloc[i][1]) + '<SPLIT>' + \\\n",
    "            str(df_test.iloc[i][2]) + '<SPLIT>' + \\\n",
    "            str(df_test.iloc[i][3]) + '<SPLIT>' + \\\n",
    "            str(df_test.iloc[i][4])\n",
    "        file_output.write(line)\n",
    "        file_output.write('\\n')\n",
    "        validation_line_num += 1\n",
    "\n",
    "print(f'validation number is: ', validation_line_num)"
   ]
  },
  {
   "cell_type": "code",
   "execution_count": null,
   "metadata": {},
   "outputs": [],
   "source": []
  }
 ],
 "metadata": {
  "kernelspec": {
   "display_name": "pyir",
   "language": "python",
   "name": "pyir"
  },
  "language_info": {
   "codemirror_mode": {
    "name": "ipython",
    "version": 3
   },
   "file_extension": ".py",
   "mimetype": "text/x-python",
   "name": "python",
   "nbconvert_exporter": "python",
   "pygments_lexer": "ipython3",
   "version": "3.10.4"
  },
  "orig_nbformat": 4,
  "vscode": {
   "interpreter": {
    "hash": "2d1b15c3153624ffed513a3797d149a3669731d419eecbbdb8cb7022307251cb"
   }
  }
 },
 "nbformat": 4,
 "nbformat_minor": 2
}
