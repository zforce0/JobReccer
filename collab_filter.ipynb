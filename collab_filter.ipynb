{
 "cells": [
  {
   "cell_type": "code",
   "execution_count": 6,
   "metadata": {},
   "outputs": [],
   "source": [
    "import pandas as pd\n",
    "import numpy as np\n",
    "import math\n",
    "from sklearn.neighbors import KNeighborsRegressor\n",
    "from sklearn.metrics.pairwise import cosine_similarity\n",
    "\n",
    "file_path = \"./data/test.csv\"\n",
    "df = pd.read_csv(file_path, header=0)\n",
    "\n"
   ]
  },
  {
   "cell_type": "code",
   "execution_count": 7,
   "metadata": {},
   "outputs": [
    {
     "name": "stdout",
     "output_type": "stream",
     "text": [
      "ratings for uid 2  is: \n",
      " 0    2.941754\n",
      "1    3.617122\n",
      "2    3.000000\n",
      "3    2.639038\n",
      "4    3.673149\n",
      "5    4.000000\n",
      "6    3.000000\n",
      "Name: 2, dtype: float64\n"
     ]
    }
   ],
   "source": [
    "\n",
    "\n",
    "#return an array of all jobs rating (existing + predicted) for the given user\n",
    "def job_job_collab_filter(uid, df, k=3):\n",
    "    job_corr = df.T.corr(method='pearson', numeric_only=True)\n",
    "    global_mean = sum(df.sum(skipna=True))/df.size\n",
    "    uid_ratings = df.iloc[:,uid]\n",
    "    uid_baseline = uid_ratings.mean(skipna=True) - global_mean\n",
    "    df_row_diff = df.sub(df.mean(axis=1), axis=0)\n",
    "    cos_sim = cosine_similarity(df_row_diff.fillna(0))\n",
    "    # print(f'uid base is: ', uid_baseline)\n",
    "    for jid, rating in enumerate(uid_ratings):\n",
    "        if math.isnan(rating): #no existing user rating, use cf\n",
    "            # print(f'jid is: ', jid)\n",
    "            temp_ratings_uid = uid_ratings.fillna(0)\n",
    "            # prep k largest for cos_sim\n",
    "            largest_k_indicies = np.argpartition(cos_sim[:,jid],-k)[-k:]\n",
    "            k_nearest_sims = cos_sim[:,jid]\n",
    "            for i in range(len(cos_sim[:,jid])):\n",
    "                if i not in largest_k_indicies:\n",
    "                    k_nearest_sims[i] = 0\n",
    "            # print(f'k_nearest sims: ', k_nearest_sims)\n",
    "            # print(f'dot prod with cos_sim: ', temp_ratings_uid.dot(k_nearest_sims))\n",
    "            # print(f'sum of sims: ', sum(cos_sim[:,jid]))\n",
    "            # print(f'normalizeed dot prod with cos_sim is: ', temp_ratings_uid.dot(k_nearest_sims)/sum(k_nearest_sims))\n",
    "            # print(f'predicted rating is: ', temp_ratings_uid.dot(k_nearest_sims)/sum(k_nearest_sims) + cos_sim[:,jid].mean() + uid_baseline)\n",
    "\n",
    "            uid_ratings[jid] = temp_ratings_uid.dot(k_nearest_sims)/sum(k_nearest_sims)\\\n",
    "                + uid_baseline + cos_sim[:,jid].mean()\n",
    "        else:\n",
    "            pass\n",
    "    return uid_ratings\n",
    "\n",
    "uid = 2\n",
    "print(f'ratings for uid', uid, ' is: \\n', job_job_collab_filter(uid,df))"
   ]
  }
 ],
 "metadata": {
  "kernelspec": {
   "display_name": "pyir",
   "language": "python",
   "name": "pyir"
  },
  "language_info": {
   "codemirror_mode": {
    "name": "ipython",
    "version": 3
   },
   "file_extension": ".py",
   "mimetype": "text/x-python",
   "name": "python",
   "nbconvert_exporter": "python",
   "pygments_lexer": "ipython3",
   "version": "3.10.4"
  },
  "orig_nbformat": 4
 },
 "nbformat": 4,
 "nbformat_minor": 2
}
