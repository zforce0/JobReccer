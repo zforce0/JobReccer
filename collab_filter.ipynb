{
 "cells": [
  {
   "cell_type": "code",
   "execution_count": 10,
   "metadata": {},
   "outputs": [
    {
     "name": "stdout",
     "output_type": "stream",
     "text": [
      "      0    1    2    3    4    5    6    7    8    9  ...   30  31   32   33  \\\n",
      "0   1.0  NaN  NaN  NaN  NaN  NaN  NaN  NaN  NaN  NaN  ...  NaN NaN  NaN  NaN   \n",
      "1   NaN  1.0  NaN  NaN  NaN  NaN  NaN  NaN  NaN  NaN  ...  NaN NaN  1.0  NaN   \n",
      "2   NaN  NaN  1.0  NaN  NaN  NaN  NaN  NaN  NaN  NaN  ...  NaN NaN  NaN  NaN   \n",
      "3   NaN  NaN  NaN  1.0  NaN  NaN  NaN  NaN  NaN  NaN  ...  NaN NaN  NaN  NaN   \n",
      "4   NaN  NaN  NaN  NaN  1.0  NaN  NaN  NaN  NaN  NaN  ...  NaN NaN  NaN  NaN   \n",
      "5   NaN  NaN  NaN  NaN  NaN  1.0  NaN  NaN  NaN  NaN  ...  NaN NaN  NaN  NaN   \n",
      "6   NaN  NaN  NaN  NaN  NaN  NaN  1.0  NaN  NaN  NaN  ...  NaN NaN  NaN  NaN   \n",
      "7   NaN  NaN  NaN  NaN  NaN  NaN  NaN  1.0  NaN  NaN  ...  NaN NaN  NaN  NaN   \n",
      "8   NaN  NaN  NaN  NaN  NaN  NaN  NaN  NaN  1.0  NaN  ...  NaN NaN  NaN  NaN   \n",
      "9   NaN  NaN  NaN  NaN  NaN  NaN  NaN  NaN  NaN  1.0  ...  NaN NaN  NaN  NaN   \n",
      "10  NaN  NaN  NaN  NaN  NaN  NaN  NaN  NaN  NaN  NaN  ...  NaN NaN  NaN  NaN   \n",
      "11  NaN  NaN  NaN  NaN  NaN  NaN  NaN  NaN  NaN  NaN  ...  NaN NaN  NaN  NaN   \n",
      "12  NaN  NaN  1.0  NaN  NaN  NaN  NaN  NaN  NaN  NaN  ...  NaN NaN  NaN  NaN   \n",
      "13  NaN  NaN  NaN  NaN  NaN  NaN  NaN  NaN  NaN  NaN  ...  NaN NaN  NaN  NaN   \n",
      "14  NaN  NaN  NaN  NaN  NaN  NaN  NaN  NaN  NaN  NaN  ...  NaN NaN  NaN  NaN   \n",
      "15  NaN  NaN  NaN  NaN  NaN  NaN  NaN  NaN  NaN  NaN  ...  NaN NaN  NaN  NaN   \n",
      "16  NaN  NaN  NaN  NaN  NaN  NaN  NaN  NaN  NaN  NaN  ...  NaN NaN  NaN  NaN   \n",
      "17  NaN  NaN  NaN  NaN  NaN  NaN  NaN  NaN  NaN  NaN  ...  NaN NaN  NaN  NaN   \n",
      "18  NaN  NaN  NaN  NaN  NaN  NaN  NaN  NaN  NaN  NaN  ...  NaN NaN  NaN  NaN   \n",
      "19  NaN  NaN  NaN  NaN  NaN  NaN  NaN  NaN  NaN  NaN  ...  NaN NaN  NaN  NaN   \n",
      "20  NaN  NaN  NaN  NaN  NaN  NaN  NaN  NaN  NaN  NaN  ...  NaN NaN  NaN  NaN   \n",
      "21  NaN  NaN  NaN  NaN  NaN  NaN  NaN  NaN  NaN  NaN  ...  NaN NaN  NaN  NaN   \n",
      "22  NaN  NaN  NaN  NaN  NaN  NaN  NaN  NaN  NaN  NaN  ...  NaN NaN  NaN  NaN   \n",
      "23  NaN  NaN  NaN  NaN  NaN  NaN  NaN  NaN  NaN  NaN  ...  NaN NaN  NaN  NaN   \n",
      "24  NaN  NaN  NaN  NaN  NaN  NaN  NaN  NaN  NaN  NaN  ...  NaN NaN  NaN  NaN   \n",
      "25  NaN  NaN  1.0  NaN  NaN  NaN  NaN  NaN  NaN  NaN  ...  NaN NaN  NaN  NaN   \n",
      "26  NaN  NaN  NaN  NaN  NaN  NaN  NaN  NaN  NaN  NaN  ...  NaN NaN  NaN  NaN   \n",
      "27  NaN  NaN  NaN  NaN  NaN  NaN  NaN  NaN  NaN  NaN  ...  NaN NaN  NaN  NaN   \n",
      "28  NaN  NaN  NaN  NaN  NaN  NaN  NaN  NaN  NaN  NaN  ...  NaN NaN  NaN  NaN   \n",
      "29  NaN  NaN  NaN  NaN  NaN  NaN  NaN  NaN  NaN  NaN  ...  NaN NaN  NaN  NaN   \n",
      "30  NaN  NaN  NaN  NaN  NaN  NaN  NaN  NaN  NaN  NaN  ...  1.0 NaN  NaN  NaN   \n",
      "31  NaN  NaN  NaN  NaN  NaN  NaN  NaN  NaN  NaN  NaN  ...  NaN NaN  NaN  NaN   \n",
      "32  NaN  1.0  NaN  NaN  NaN  NaN  NaN  NaN  NaN  NaN  ...  NaN NaN  1.0  NaN   \n",
      "33  NaN  NaN  NaN  NaN  NaN  NaN  NaN  NaN  NaN  NaN  ...  NaN NaN  NaN  1.0   \n",
      "34  NaN  NaN  NaN  NaN  NaN  NaN  NaN  NaN  NaN  NaN  ...  NaN NaN  NaN  NaN   \n",
      "35  NaN  NaN  NaN  NaN  NaN  NaN  NaN  NaN  NaN  NaN  ...  NaN NaN  NaN  NaN   \n",
      "36  NaN  NaN  NaN  NaN  NaN  NaN  NaN  NaN  NaN  NaN  ...  NaN NaN  NaN  NaN   \n",
      "37  NaN  NaN  NaN  NaN  NaN  NaN  NaN  NaN  NaN  NaN  ...  NaN NaN  NaN  NaN   \n",
      "38  NaN  NaN  NaN  NaN  NaN  NaN  NaN  NaN  NaN  NaN  ...  NaN NaN  NaN  NaN   \n",
      "39  NaN  NaN  NaN  NaN  NaN  NaN  NaN  NaN  NaN  NaN  ...  NaN NaN  NaN  NaN   \n",
      "\n",
      "    34  35   36   37  38   39  \n",
      "0  NaN NaN  NaN  NaN NaN  NaN  \n",
      "1  NaN NaN  NaN  NaN NaN  NaN  \n",
      "2  NaN NaN  NaN  NaN NaN  NaN  \n",
      "3  NaN NaN  NaN  NaN NaN  NaN  \n",
      "4  NaN NaN  NaN  NaN NaN  NaN  \n",
      "5  NaN NaN  NaN  NaN NaN  NaN  \n",
      "6  NaN NaN  NaN  NaN NaN  NaN  \n",
      "7  NaN NaN  NaN  NaN NaN  NaN  \n",
      "8  NaN NaN  NaN  NaN NaN  NaN  \n",
      "9  NaN NaN  NaN  NaN NaN  NaN  \n",
      "10 NaN NaN  NaN  NaN NaN  NaN  \n",
      "11 NaN NaN  NaN  NaN NaN  NaN  \n",
      "12 NaN NaN  NaN  NaN NaN  NaN  \n",
      "13 NaN NaN  NaN  NaN NaN  NaN  \n",
      "14 NaN NaN  NaN  NaN NaN  NaN  \n",
      "15 NaN NaN  NaN  NaN NaN  NaN  \n",
      "16 NaN NaN  NaN  NaN NaN  NaN  \n",
      "17 NaN NaN  NaN  NaN NaN  NaN  \n",
      "18 NaN NaN  NaN  NaN NaN  NaN  \n",
      "19 NaN NaN  NaN  NaN NaN  NaN  \n",
      "20 NaN NaN  NaN  NaN NaN  NaN  \n",
      "21 NaN NaN  NaN  NaN NaN  NaN  \n",
      "22 NaN NaN  NaN  NaN NaN  NaN  \n",
      "23 NaN NaN  NaN  NaN NaN  NaN  \n",
      "24 NaN NaN  NaN  NaN NaN  NaN  \n",
      "25 NaN NaN  NaN  NaN NaN  NaN  \n",
      "26 NaN NaN  NaN  NaN NaN  NaN  \n",
      "27 NaN NaN  NaN  NaN NaN  NaN  \n",
      "28 NaN NaN  NaN  NaN NaN  NaN  \n",
      "29 NaN NaN  NaN  NaN NaN  NaN  \n",
      "30 NaN NaN  NaN  NaN NaN  NaN  \n",
      "31 NaN NaN  NaN  NaN NaN  NaN  \n",
      "32 NaN NaN  NaN  NaN NaN  NaN  \n",
      "33 NaN NaN  NaN  NaN NaN  NaN  \n",
      "34 NaN NaN  NaN  NaN NaN  NaN  \n",
      "35 NaN NaN  NaN  NaN NaN  NaN  \n",
      "36 NaN NaN  1.0  NaN NaN  NaN  \n",
      "37 NaN NaN  NaN  1.0 NaN  NaN  \n",
      "38 NaN NaN  NaN  NaN NaN  NaN  \n",
      "39 NaN NaN  NaN  NaN NaN  1.0  \n",
      "\n",
      "[40 rows x 40 columns]\n"
     ]
    }
   ],
   "source": [
    "import pandas as pd\n",
    "from sklearn.metrics.pairwise import cosine_similarity\n",
    "import math\n",
    "file_path = \"./data/job_user_rating.csv\"\n",
    "df = pd.read_csv(file_path, header=0)\n",
    "\n",
    "print(df.corr(method='pearson', numeric_only=True))\n"
   ]
  },
  {
   "cell_type": "code",
   "execution_count": 27,
   "metadata": {},
   "outputs": [
    {
     "name": "stdout",
     "output_type": "stream",
     "text": [
      "nan\n"
     ]
    }
   ],
   "source": [
    "def job_job_collab_filter(uid, df, base_rating):\n",
    "    df_corr = df.T.corr(method='pearson', numeric_only=True)\n",
    "    # print(df_corr)\n",
    "    #return an array of all jobs rating for the given user\n",
    "    uid_ratings = df.iloc[:,uid]\n",
    "    # print(uid_ratings)\n",
    "    for jid, rating in enumerate(uid_ratings):\n",
    "        if math.isnan(rating): #no existing user rating, use cf\n",
    "            uid_ratings[jid] = base_rating + uid_ratings.dot(df_corr.iloc[:,uid])\n",
    "        else:\n",
    "            pass\n",
    "    return uid_ratings\n",
    "\n",
    "print(sum(job_job_collab_filter(1,df, 3.0)))"
   ]
  }
 ],
 "metadata": {
  "kernelspec": {
   "display_name": "pyir",
   "language": "python",
   "name": "pyir"
  },
  "language_info": {
   "codemirror_mode": {
    "name": "ipython",
    "version": 3
   },
   "file_extension": ".py",
   "mimetype": "text/x-python",
   "name": "python",
   "nbconvert_exporter": "python",
   "pygments_lexer": "ipython3",
   "version": "3.10.4"
  },
  "orig_nbformat": 4
 },
 "nbformat": 4,
 "nbformat_minor": 2
}
