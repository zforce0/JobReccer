{
 "cells": [
  {
   "cell_type": "code",
   "execution_count": 5,
   "id": "bb129834",
   "metadata": {},
   "outputs": [],
   "source": [
    "import pandas as pd\n",
    "import numpy as np\n",
    "\n",
    "\n",
    "!export JAVA_HOME=/usr/lib/jvm/java-18-openjdk-amd64/\n"
   ]
  },
  {
   "cell_type": "code",
   "execution_count": 4,
   "id": "c5b4a223",
   "metadata": {
    "scrolled": true
   },
   "outputs": [
    {
     "data": {
      "text/plain": [
       "Unnamed: 0    971\n",
       "Language        1\n",
       "Query          99\n",
       "GitHubUrl     958\n",
       "code          958\n",
       "relevance       4\n",
       "dtype: int64"
      ]
     },
     "execution_count": 4,
     "metadata": {},
     "output_type": "execute_result"
    }
   ],
   "source": [
    "df = pd.read_csv('./data/final_evaluation_set.csv')\n",
    "df.nunique(axis=0)\n"
   ]
  },
  {
   "cell_type": "code",
   "execution_count": null,
   "id": "be128c5a",
   "metadata": {},
   "outputs": [],
   "source": []
  },
  {
   "cell_type": "code",
   "execution_count": 6,
   "id": "d37d3b35",
   "metadata": {},
   "outputs": [
    {
     "name": "stderr",
     "output_type": "stream",
     "text": [
      "PyTerrier 0.9.1 has loaded Terrier 5.7 (built by craigm on 2022-11-10 18:30) and terrier-helper 0.0.7\n",
      "\n"
     ]
    },
    {
     "name": "stdout",
     "output_type": "stream",
     "text": [
      "                                                text docno\n",
      "0  def write_csv(filename, data, delimiter=CSV_DE...     0\n",
      "1  def write_to_csv(fname, header, rows): with op...     1\n",
      "2  def write_csv(self): # Get first element's fil...     2\n",
      "3  def to_csv(self, fbuf, quotechar='\"', delimite...     3\n",
      "4  def write_to_csv(self, filename): ''' Exports ...     4\n",
      "Number of documents: 958\n",
      "Number of terms: 4929\n",
      "Number of postings: 26358\n",
      "Number of fields: 0\n",
      "Number of tokens: 65017\n",
      "Field names: []\n",
      "Positions:   false\n",
      "\n"
     ]
    },
    {
     "name": "stderr",
     "output_type": "stream",
     "text": [
      "No etc/terrier.properties, using terrier.default.properties for bootstrap configuration.\n"
     ]
    }
   ],
   "source": [
    "# Create index\n",
    "from collections import defaultdict\n",
    "import pyterrier as pt\n",
    "if not pt.started():\n",
    "    pt.init()\n",
    "    \n",
    "\n",
    "visited_code = []    \n",
    "count = 0\n",
    "code_dic = {}\n",
    "temp_dic = dict({'text':[], 'docno':[]})\n",
    "for i in range(len(df['code'])):\n",
    "    if df['code'][i] not in visited_code:\n",
    "        visited_code.append(df['code'][i])\n",
    "        code_dic[df['code'][i]] = str(count)\n",
    "        temp_dic['text'].append(df['code'][i])\n",
    "        temp_dic['docno'].append(str(count))\n",
    "        count += 1\n",
    "    \n",
    "code_df = pd.DataFrame(temp_dic)    \n",
    "\n",
    "\n",
    "print(code_df.head(5))\n",
    "code_df.drop_duplicates(subset='text')\n",
    "pd_indexer = pt.DFIndexer('./pd_index', overwrite=True)\n",
    "indexref = pd_indexer.index(code_df[\"text\"], code_df[\"docno\"])\n",
    "index = pt.IndexFactory.of(indexref)\n",
    "print(index.getCollectionStatistics().toString())"
   ]
  },
  {
   "cell_type": "code",
   "execution_count": 7,
   "id": "0394e4fe",
   "metadata": {},
   "outputs": [
    {
     "name": "stdout",
     "output_type": "stream",
     "text": [
      "  qid                           query\n",
      "0   0                       write csv\n",
      "1   1           unzipping large files\n",
      "2   2                 unique elements\n",
      "3   3  underline text in label widget\n",
      "4   4                  string to date\n",
      "99\n"
     ]
    },
    {
     "data": {
      "text/plain": [
       "str"
      ]
     },
     "execution_count": 7,
     "metadata": {},
     "output_type": "execute_result"
    }
   ],
   "source": [
    "# Prepare query data\n",
    "visited = []    \n",
    "count = 0\n",
    "query_dic = {}\n",
    "temp_query_dic = dict({'qid':[], 'query':[],})\n",
    "for i in range(len(df['Query'])):\n",
    "    if df['Query'][i] not in visited:\n",
    "        visited.append(df['Query'][i])\n",
    "        query_dic[df['Query'][i]] = str(count)\n",
    "        temp_query_dic['query'].append(df['Query'][i])\n",
    "        temp_query_dic['qid'].append(str(count))\n",
    "        count += 1\n",
    "    \n",
    "query_df = pd.DataFrame(temp_query_dic)    \n",
    "\n",
    "print(query_df.head(5))\n",
    "print(len(query_df))\n",
    "\n",
    "query_df.query(\"query == 'write csv'\")\n",
    "type(query_df.iloc[0,1])"
   ]
  },
  {
   "cell_type": "code",
   "execution_count": 8,
   "id": "2907e06a",
   "metadata": {},
   "outputs": [
    {
     "name": "stdout",
     "output_type": "stream",
     "text": [
      "971\n",
      "  qid docno  label\n",
      "0   0     0      3\n",
      "1   0     1      3\n",
      "2   0     2      3\n",
      "3   0     3      3\n",
      "4   0     4      3\n"
     ]
    }
   ],
   "source": [
    "print(len(df))\n",
    "pair_dic = dict({'qid':[], 'docno':[], 'label':[]})\n",
    "for i in range(len(df)):\n",
    "    qid = int(query_df[query_df['query']==df['Query'][i]]['qid'])\n",
    "    pair_dic['qid'].append(str(qid))\n",
    "    docno = int(code_df[code_df['text']==df['code'][i]]['docno'])\n",
    "    pair_dic['docno'].append(str(docno))\n",
    "    pair_dic['label'].append(df['relevance'][i])\n",
    "\n",
    "qrels = pd.DataFrame(pair_dic)\n",
    "print(qrels.head(5))"
   ]
  },
  {
   "cell_type": "code",
   "execution_count": 9,
   "id": "59648764",
   "metadata": {},
   "outputs": [
    {
     "name": "stdout",
     "output_type": "stream",
     "text": [
      "971\n"
     ]
    }
   ],
   "source": [
    "# Prepare eval data\n",
    "print(len(df))\n",
    "pair_dic = dict({'qid':[], 'docno':[], 'label':[]})\n",
    "for i in range(len(df)):\n",
    "    qid = int(query_df[query_df['query']==df['Query'][i]]['qid'])\n",
    "    pair_dic['qid'].append(str(qid))\n",
    "    docno = int(code_df[code_df['text']==df['code'][i]]['docno'])\n",
    "    pair_dic['docno'].append(str(docno))\n",
    "    pair_dic['label'].append(df['relevance'][i])\n",
    "\n",
    "qrels = pd.DataFrame(pair_dic)"
   ]
  },
  {
   "cell_type": "code",
   "execution_count": null,
   "id": "5e616a02",
   "metadata": {},
   "outputs": [],
   "source": [
    "# learning to Rank\n",
    "SEED=42\n",
    "from sklearn.model_selection import train_test_split\n",
    "tr_va_topics, test_topics = train_test_split(query_df, test_size=30, random_state=SEED)\n",
    "train_topics, valid_topics =  train_test_split(tr_va_topics, test_size=10, random_state=SEED)\n",
    "print(test_topics.head(5))\n",
    "# print(test_topics.dtypes)\n",
    "# pd.to_numeric(test_topics['qid'], downcast='integer')\n",
    "# print(test_topics.dtypes)\n",
    "test_topics.iloc[1,0]\n",
    "print(test_topics.shape)\n",
    "\n",
    "# for i in range(len(test_topics)):\n",
    "#     tmp = int(test_topics[i][0])\n",
    "#     print(tmp, type(tmp))\n",
    "#     test_topics[i][0] = tmp\n",
    "# print(test_topics.dtypes)"
   ]
  }
 ],
 "metadata": {
  "kernelspec": {
   "display_name": "Python 3 (ipykernel)",
   "language": "python",
   "name": "python3"
  },
  "language_info": {
   "codemirror_mode": {
    "name": "ipython",
    "version": 3
   },
   "file_extension": ".py",
   "mimetype": "text/x-python",
   "name": "python",
   "nbconvert_exporter": "python",
   "pygments_lexer": "ipython3",
   "version": "3.9.7"
  }
 },
 "nbformat": 4,
 "nbformat_minor": 5
}
